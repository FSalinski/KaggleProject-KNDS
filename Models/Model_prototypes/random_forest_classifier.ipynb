{
 "cells": [
  {
   "cell_type": "code",
   "execution_count": 8,
   "metadata": {},
   "outputs": [],
   "source": [
    "import pandas as pd\n",
    "import matplotlib.pyplot as plt\n",
    "%matplotlib inline\n",
    "from sklearn.ensemble import RandomForestClassifier\n",
    "from sklearn.metrics import classification_report, roc_curve, roc_auc_score"
   ]
  },
  {
   "cell_type": "code",
   "execution_count": 9,
   "metadata": {},
   "outputs": [
    {
     "data": {
      "text/html": [
       "<div>\n",
       "<style scoped>\n",
       "    .dataframe tbody tr th:only-of-type {\n",
       "        vertical-align: middle;\n",
       "    }\n",
       "\n",
       "    .dataframe tbody tr th {\n",
       "        vertical-align: top;\n",
       "    }\n",
       "\n",
       "    .dataframe thead th {\n",
       "        text-align: right;\n",
       "    }\n",
       "</style>\n",
       "<table border=\"1\" class=\"dataframe\">\n",
       "  <thead>\n",
       "    <tr style=\"text-align: right;\">\n",
       "      <th></th>\n",
       "      <th>age</th>\n",
       "      <th>campaign</th>\n",
       "      <th>contacted.in.previous</th>\n",
       "      <th>emp.var.rate</th>\n",
       "      <th>cons.price.idx</th>\n",
       "      <th>cons.conf.idx</th>\n",
       "      <th>euribor3m</th>\n",
       "      <th>nr.employed</th>\n",
       "      <th>job_admin.</th>\n",
       "      <th>job_blue-collar</th>\n",
       "      <th>...</th>\n",
       "      <th>contact_cellular</th>\n",
       "      <th>contact_telephone</th>\n",
       "      <th>poutcome_failure</th>\n",
       "      <th>poutcome_nonexistent</th>\n",
       "      <th>poutcome_success</th>\n",
       "      <th>month_sin</th>\n",
       "      <th>month_cos</th>\n",
       "      <th>day_sin</th>\n",
       "      <th>day_cos</th>\n",
       "      <th>y</th>\n",
       "    </tr>\n",
       "  </thead>\n",
       "  <tbody>\n",
       "    <tr>\n",
       "      <th>0</th>\n",
       "      <td>0.322632</td>\n",
       "      <td>1.000000</td>\n",
       "      <td>0.0</td>\n",
       "      <td>1.000000</td>\n",
       "      <td>0.612813</td>\n",
       "      <td>0.390735</td>\n",
       "      <td>0.970664</td>\n",
       "      <td>1.000000</td>\n",
       "      <td>0.0</td>\n",
       "      <td>1.0</td>\n",
       "      <td>...</td>\n",
       "      <td>1.0</td>\n",
       "      <td>0.0</td>\n",
       "      <td>0.0</td>\n",
       "      <td>1.0</td>\n",
       "      <td>0.0</td>\n",
       "      <td>-0.500000</td>\n",
       "      <td>-0.866025</td>\n",
       "      <td>-5.877853e-01</td>\n",
       "      <td>-0.809017</td>\n",
       "      <td>0.0</td>\n",
       "    </tr>\n",
       "    <tr>\n",
       "      <th>1</th>\n",
       "      <td>0.552137</td>\n",
       "      <td>0.000000</td>\n",
       "      <td>0.0</td>\n",
       "      <td>1.000000</td>\n",
       "      <td>0.422695</td>\n",
       "      <td>0.724448</td>\n",
       "      <td>0.970664</td>\n",
       "      <td>1.000000</td>\n",
       "      <td>0.0</td>\n",
       "      <td>0.0</td>\n",
       "      <td>...</td>\n",
       "      <td>1.0</td>\n",
       "      <td>0.0</td>\n",
       "      <td>0.0</td>\n",
       "      <td>1.0</td>\n",
       "      <td>0.0</td>\n",
       "      <td>-0.866025</td>\n",
       "      <td>-0.500000</td>\n",
       "      <td>-9.510565e-01</td>\n",
       "      <td>0.309017</td>\n",
       "      <td>0.0</td>\n",
       "    </tr>\n",
       "    <tr>\n",
       "      <th>2</th>\n",
       "      <td>0.636314</td>\n",
       "      <td>0.495659</td>\n",
       "      <td>0.0</td>\n",
       "      <td>0.854914</td>\n",
       "      <td>0.644951</td>\n",
       "      <td>0.710269</td>\n",
       "      <td>0.932652</td>\n",
       "      <td>0.710922</td>\n",
       "      <td>1.0</td>\n",
       "      <td>0.0</td>\n",
       "      <td>...</td>\n",
       "      <td>0.0</td>\n",
       "      <td>1.0</td>\n",
       "      <td>0.0</td>\n",
       "      <td>1.0</td>\n",
       "      <td>0.0</td>\n",
       "      <td>0.500000</td>\n",
       "      <td>-0.866025</td>\n",
       "      <td>-2.449294e-16</td>\n",
       "      <td>1.000000</td>\n",
       "      <td>0.0</td>\n",
       "    </tr>\n",
       "    <tr>\n",
       "      <th>3</th>\n",
       "      <td>0.798640</td>\n",
       "      <td>0.000000</td>\n",
       "      <td>0.0</td>\n",
       "      <td>0.432174</td>\n",
       "      <td>0.331438</td>\n",
       "      <td>0.428275</td>\n",
       "      <td>0.714556</td>\n",
       "      <td>0.743803</td>\n",
       "      <td>0.0</td>\n",
       "      <td>1.0</td>\n",
       "      <td>...</td>\n",
       "      <td>1.0</td>\n",
       "      <td>0.0</td>\n",
       "      <td>1.0</td>\n",
       "      <td>0.0</td>\n",
       "      <td>0.0</td>\n",
       "      <td>-0.500000</td>\n",
       "      <td>0.866025</td>\n",
       "      <td>9.510565e-01</td>\n",
       "      <td>0.309017</td>\n",
       "      <td>0.0</td>\n",
       "    </tr>\n",
       "    <tr>\n",
       "      <th>4</th>\n",
       "      <td>0.552137</td>\n",
       "      <td>0.495659</td>\n",
       "      <td>0.0</td>\n",
       "      <td>1.000000</td>\n",
       "      <td>0.612813</td>\n",
       "      <td>0.390735</td>\n",
       "      <td>0.970309</td>\n",
       "      <td>1.000000</td>\n",
       "      <td>0.0</td>\n",
       "      <td>0.0</td>\n",
       "      <td>...</td>\n",
       "      <td>1.0</td>\n",
       "      <td>0.0</td>\n",
       "      <td>0.0</td>\n",
       "      <td>1.0</td>\n",
       "      <td>0.0</td>\n",
       "      <td>-0.500000</td>\n",
       "      <td>-0.866025</td>\n",
       "      <td>-9.510565e-01</td>\n",
       "      <td>0.309017</td>\n",
       "      <td>0.0</td>\n",
       "    </tr>\n",
       "  </tbody>\n",
       "</table>\n",
       "<p>5 rows × 44 columns</p>\n",
       "</div>"
      ],
      "text/plain": [
       "        age  campaign  contacted.in.previous  emp.var.rate  cons.price.idx  \\\n",
       "0  0.322632  1.000000                    0.0      1.000000        0.612813   \n",
       "1  0.552137  0.000000                    0.0      1.000000        0.422695   \n",
       "2  0.636314  0.495659                    0.0      0.854914        0.644951   \n",
       "3  0.798640  0.000000                    0.0      0.432174        0.331438   \n",
       "4  0.552137  0.495659                    0.0      1.000000        0.612813   \n",
       "\n",
       "   cons.conf.idx  euribor3m  nr.employed  job_admin.  job_blue-collar  ...  \\\n",
       "0       0.390735   0.970664     1.000000         0.0              1.0  ...   \n",
       "1       0.724448   0.970664     1.000000         0.0              0.0  ...   \n",
       "2       0.710269   0.932652     0.710922         1.0              0.0  ...   \n",
       "3       0.428275   0.714556     0.743803         0.0              1.0  ...   \n",
       "4       0.390735   0.970309     1.000000         0.0              0.0  ...   \n",
       "\n",
       "   contact_cellular  contact_telephone  poutcome_failure  \\\n",
       "0               1.0                0.0               0.0   \n",
       "1               1.0                0.0               0.0   \n",
       "2               0.0                1.0               0.0   \n",
       "3               1.0                0.0               1.0   \n",
       "4               1.0                0.0               0.0   \n",
       "\n",
       "   poutcome_nonexistent  poutcome_success  month_sin  month_cos       day_sin  \\\n",
       "0                   1.0               0.0  -0.500000  -0.866025 -5.877853e-01   \n",
       "1                   1.0               0.0  -0.866025  -0.500000 -9.510565e-01   \n",
       "2                   1.0               0.0   0.500000  -0.866025 -2.449294e-16   \n",
       "3                   0.0               0.0  -0.500000   0.866025  9.510565e-01   \n",
       "4                   1.0               0.0  -0.500000  -0.866025 -9.510565e-01   \n",
       "\n",
       "    day_cos    y  \n",
       "0 -0.809017  0.0  \n",
       "1  0.309017  0.0  \n",
       "2  1.000000  0.0  \n",
       "3  0.309017  0.0  \n",
       "4  0.309017  0.0  \n",
       "\n",
       "[5 rows x 44 columns]"
      ]
     },
     "execution_count": 9,
     "metadata": {},
     "output_type": "execute_result"
    }
   ],
   "source": [
    "train_data = pd.read_csv('C:/Users/frane/kaggleproject/Data/preprocessed2-train-bank-data.csv', sep=';')\n",
    "test_data = pd.read_csv('C:/Users/frane/kaggleproject/Data/preprocessed2-test-bank-data.csv', sep=';')\n",
    "\n",
    "train_data.head()"
   ]
  },
  {
   "cell_type": "code",
   "execution_count": 10,
   "metadata": {},
   "outputs": [],
   "source": [
    "X_train, y_train = train_data.drop('y', axis=1), train_data['y']\n",
    "X_test, y_test = test_data.drop('y', axis=1), test_data['y']"
   ]
  },
  {
   "attachments": {},
   "cell_type": "markdown",
   "metadata": {},
   "source": [
    "# Building Random Forest Model"
   ]
  },
  {
   "cell_type": "code",
   "execution_count": 11,
   "metadata": {},
   "outputs": [
    {
     "data": {
      "text/plain": [
       "RandomForestClassifier()"
      ]
     },
     "execution_count": 11,
     "metadata": {},
     "output_type": "execute_result"
    }
   ],
   "source": [
    "rfc = RandomForestClassifier()\n",
    "rfc.fit(X_train, y_train)"
   ]
  },
  {
   "cell_type": "code",
   "execution_count": 12,
   "metadata": {},
   "outputs": [
    {
     "name": "stdout",
     "output_type": "stream",
     "text": [
      "Metrics of model working on unseen data:      \n",
      "              precision    recall  f1-score   support\n",
      "\n",
      "         0.0       0.92      0.97      0.94      7105\n",
      "         1.0       0.53      0.30      0.39       870\n",
      "\n",
      "    accuracy                           0.89      7975\n",
      "   macro avg       0.73      0.63      0.66      7975\n",
      "weighted avg       0.88      0.89      0.88      7975\n",
      "\n",
      "Metrics of model working on seen data:      \n",
      "              precision    recall  f1-score   support\n",
      "\n",
      "         0.0       0.99      1.00      1.00     28211\n",
      "         1.0       0.99      0.96      0.97      3617\n",
      "\n",
      "    accuracy                           0.99     31828\n",
      "   macro avg       0.99      0.98      0.99     31828\n",
      "weighted avg       0.99      0.99      0.99     31828\n",
      "\n"
     ]
    }
   ],
   "source": [
    "print(f\"Metrics of model working on unseen data:\\\n",
    "      \\n{classification_report(y_test, rfc.predict(X_test))}\")\n",
    "\n",
    "print(f\"Metrics of model working on seen data:\\\n",
    "      \\n{classification_report(y_train, rfc.predict(X_train))}\")"
   ]
  },
  {
   "attachments": {},
   "cell_type": "markdown",
   "metadata": {},
   "source": [
    "Model is overfitted"
   ]
  },
  {
   "cell_type": "code",
   "execution_count": 13,
   "metadata": {},
   "outputs": [
    {
     "name": "stdout",
     "output_type": "stream",
     "text": [
      "Metrics of model working on unseen data:      \n",
      "              precision    recall  f1-score   support\n",
      "\n",
      "         0.0       0.95      0.88      0.91      7105\n",
      "         1.0       0.39      0.62      0.48       870\n",
      "\n",
      "    accuracy                           0.85      7975\n",
      "   macro avg       0.67      0.75      0.70      7975\n",
      "weighted avg       0.89      0.85      0.87      7975\n",
      "\n",
      "Metrics of model working on seen data:      \n",
      "              precision    recall  f1-score   support\n",
      "\n",
      "         0.0       0.95      0.88      0.91     28211\n",
      "         1.0       0.41      0.62      0.49      3617\n",
      "\n",
      "    accuracy                           0.85     31828\n",
      "   macro avg       0.68      0.75      0.70     31828\n",
      "weighted avg       0.89      0.85      0.87     31828\n",
      "\n"
     ]
    }
   ],
   "source": [
    "rfc = RandomForestClassifier(max_depth=8, class_weight='balanced')\n",
    "rfc.fit(X_train, y_train)\n",
    "\n",
    "print(f\"Metrics of model working on unseen data:\\\n",
    "      \\n{classification_report(y_test, rfc.predict(X_test))}\")\n",
    "\n",
    "print(f\"Metrics of model working on seen data:\\\n",
    "      \\n{classification_report(y_train, rfc.predict(X_train))}\")"
   ]
  },
  {
   "cell_type": "code",
   "execution_count": 14,
   "metadata": {},
   "outputs": [
    {
     "data": {
      "image/png": "[encoded data removed]",
      "text/plain": [
       "<Figure size 640x480 with 1 Axes>"
      ]
     },
     "metadata": {},
     "output_type": "display_data"
    }
   ],
   "source": [
    "roc_auc = roc_auc_score(y_test, rfc.predict(X_test))\n",
    "fpr, tpr, thresholds = roc_curve(y_test, rfc.predict_proba(X_test)[:,1])\n",
    "plt.figure()\n",
    "plt.plot(fpr, tpr, label=f'Decision Tree Classifier, AUC = {round(roc_auc, 2)}', color='b')\n",
    "plt.plot([0, 1], [0, 1],'r--')\n",
    "plt.xlim([0.0, 1.01])\n",
    "plt.ylim([0.0, 1.01])\n",
    "plt.xlabel('False Positive Rate')\n",
    "plt.ylabel('True Positive Rate')\n",
    "plt.title('ROC curve')\n",
    "plt.legend(loc=\"lower right\")\n",
    "plt.show()"
   ]
  }
 ],
 "metadata": {
  "kernelspec": {
   "display_name": "kaggleproject",
   "language": "python",
   "name": "python3"
  },
  "language_info": {
   "codemirror_mode": {
    "name": "ipython",
    "version": 3
   },
   "file_extension": ".py",
   "mimetype": "text/x-python",
   "name": "python",
   "nbconvert_exporter": "python",
   "pygments_lexer": "ipython3",
   "version": "3.7.13"
  },
  "orig_nbformat": 4,
  "vscode": {
   "interpreter": {
    "hash": "aa5f65e0f10c319cfd3354688387c531f5a2d855a835969ef8e2fcee4983dfc3"
   }
  }
 },
 "nbformat": 4,
 "nbformat_minor": 2
}
