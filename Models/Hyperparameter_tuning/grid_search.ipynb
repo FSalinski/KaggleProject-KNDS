{
 "cells": [
  {
   "cell_type": "code",
   "execution_count": 105,
   "metadata": {},
   "outputs": [],
   "source": [
    "import pickle\n",
    "import pandas as pd\n",
    "import numpy as np\n",
    "import matplotlib.pyplot as plt\n",
    "%matplotlib inline\n",
    "import seaborn as sns\n",
    "from sklearn.model_selection import KFold\n",
    "from sklearn.model_selection import GridSearchCV\n",
    "from sklearn.linear_model import LogisticRegression\n",
    "from sklearn.ensemble import RandomForestClassifier\n",
    "from sklearn.tree import DecisionTreeClassifier\n",
    "from sklearn.neural_network import MLPClassifier\n",
    "from sklearn.svm import LinearSVC\n",
    "from sklearn.metrics import accuracy_score, roc_auc_score\n",
    "\n",
    "import warnings\n",
    "warnings.simplefilter('ignore')"
   ]
  },
  {
   "cell_type": "code",
   "execution_count": 106,
   "metadata": {},
   "outputs": [],
   "source": [
    "train_data = pd.read_csv('C:/Users/frane/kaggleproject/Data/preprocessed2-train-bank-data.csv', sep=';')\n",
    "test_data = pd.read_csv('C:/Users/frane/kaggleproject/Data/preprocessed2-test-bank-data.csv', sep=';')\n",
    "\n",
    "X_train, y_train = train_data.drop('y', axis=1), train_data['y']\n",
    "X_test, y_test = test_data.drop('y', axis=1), test_data['y']"
   ]
  },
  {
   "cell_type": "code",
   "execution_count": 107,
   "metadata": {},
   "outputs": [],
   "source": [
    "\"\"\"Creating models\"\"\"\n",
    "dtc = DecisionTreeClassifier()\n",
    "logr = LogisticRegression()\n",
    "mlpc = MLPClassifier()\n",
    "rfc = RandomForestClassifier()\n",
    "svc = LinearSVC()\n",
    "\n",
    "kf = KFold(n_splits=5, shuffle=True, random_state=31)"
   ]
  },
  {
   "cell_type": "code",
   "execution_count": 108,
   "metadata": {},
   "outputs": [],
   "source": [
    "\"\"\"Choosing parameters to optimize\"\"\"\n",
    "\n",
    "dtc_param = {\n",
    "    'class_weight' : ['balanced'],\n",
    "    'splitter' : ['random'],\n",
    "    'max_depth' : [3, 4, 5, 6],\n",
    "    'min_samples_split' : [2, 3, 4],\n",
    "    'min_samples_leaf' : [1, 2, 3],\n",
    "    'max_features' : [None, 'sqrt', 'log2'],\n",
    "    'random_state' : [1]\n",
    "}\n",
    "\n",
    "logr_param = {\n",
    "    'class_weight' : ['balanced'],\n",
    "    'penalty': [None, 'l2'],\n",
    "    'dual' : [True, False],\n",
    "    'random_state' : [1],\n",
    "    'max_iter' : [80, 90, 100, 110, 120]\n",
    "}\n",
    "\n",
    "mlpc_param = {\n",
    "    'hidden_layer_sizes' : [(90,), (100,), (110,)],\n",
    "    'max_iter' : [7, 8, 9, 10, 11, 12, 13],\n",
    "    'power_t' : [0.4, 0.45, 0.5, 0.55, 0.6],\n",
    "    'random_state' : [1]\n",
    "}\n",
    "\n",
    "rfc_param = {\n",
    "    'class_weight' : ['balanced'],\n",
    "    'criterion' : ['gini', 'entropy', 'log_loss'],\n",
    "    'n_estimators' : [60, 70, 80, 90, 100],\n",
    "    'max_depth' : [5, 6, 7, 8, 9, 10],\n",
    "    'min_samples_split' : [2, 3, 4],\n",
    "    'min_samples_leaf' : [1, 2, 3],\n",
    "    'random_state' : [1]\n",
    "}\n",
    "\n",
    "svc_param = {\n",
    "    'class_weight' : ['balanced'],\n",
    "    'penalty' : ['l1', 'l2'],\n",
    "    'loss' : ['hinge', 'squared_hinge'],\n",
    "    'dual' : [True, False],\n",
    "    'random_state' : [1]\n",
    "}"
   ]
  },
  {
   "cell_type": "code",
   "execution_count": 109,
   "metadata": {},
   "outputs": [],
   "source": [
    "\"\"\"Creating GridSearch objects for each model\"\"\"\n",
    "\n",
    "dtc_gs = GridSearchCV(estimator=dtc, param_grid=dtc_param, cv=kf, scoring='roc_auc', verbose=1)\n",
    "logr_gs = GridSearchCV(estimator=logr, param_grid=logr_param, cv=kf, scoring='roc_auc', verbose=1)\n",
    "mlpc_gs = GridSearchCV(estimator=mlpc, param_grid=mlpc_param, cv=kf, scoring='roc_auc', verbose=1)\n",
    "rfc_gs = GridSearchCV(estimator=rfc, param_grid=rfc_param, cv=kf, scoring='roc_auc', verbose=1)\n",
    "svc_gs = GridSearchCV(estimator=svc, param_grid=svc_param, cv=kf, scoring='roc_auc', verbose=1)"
   ]
  },
  {
   "cell_type": "code",
   "execution_count": 110,
   "metadata": {},
   "outputs": [
    {
     "name": "stdout",
     "output_type": "stream",
     "text": [
      "Fitting 5 folds for each of 108 candidates, totalling 540 fits\n",
      "Fitting 5 folds for each of 20 candidates, totalling 100 fits\n",
      "Fitting 5 folds for each of 105 candidates, totalling 525 fits\n",
      "Fitting 5 folds for each of 810 candidates, totalling 4050 fits\n",
      "Fitting 5 folds for each of 8 candidates, totalling 40 fits\n"
     ]
    },
    {
     "data": {
      "text/plain": [
       "GridSearchCV(cv=KFold(n_splits=5, random_state=31, shuffle=True),\n",
       "             estimator=LinearSVC(),\n",
       "             param_grid={'class_weight': ['balanced'], 'dual': [True, False],\n",
       "                         'loss': ['hinge', 'squared_hinge'],\n",
       "                         'penalty': ['l1', 'l2'], 'random_state': [1]},\n",
       "             scoring='roc_auc', verbose=1)"
      ]
     },
     "execution_count": 110,
     "metadata": {},
     "output_type": "execute_result"
    }
   ],
   "source": [
    "\"\"\"Optimalizing models for highest ROC AUC\"\"\"\n",
    "\n",
    "dtc_gs.fit(X_train, y_train)\n",
    "\n",
    "logr_gs.fit(X_train, y_train)\n",
    "\n",
    "mlpc_gs.fit(X_train, y_train)\n",
    "\n",
    "rfc_gs.fit(X_train, y_train)\n",
    "\n",
    "svc_gs.fit(X_train, y_train)"
   ]
  },
  {
   "cell_type": "code",
   "execution_count": 112,
   "metadata": {},
   "outputs": [
    {
     "name": "stdout",
     "output_type": "stream",
     "text": [
      "Best estimators:\n",
      "DecisionTreeClassifier(class_weight='balanced', max_depth=6,\n",
      "                       min_samples_split=4, random_state=1, splitter='random')\n",
      "LogisticRegression(class_weight='balanced', max_iter=90, random_state=1)\n",
      "MLPClassifier(hidden_layer_sizes=(110,), max_iter=13, power_t=0.4,\n",
      "              random_state=1)\n",
      "RandomForestClassifier(class_weight='balanced', criterion='entropy',\n",
      "                       max_depth=9, min_samples_leaf=3, n_estimators=80,\n",
      "                       random_state=1)\n",
      "LinearSVC(class_weight='balanced', dual=False, penalty='l1', random_state=1)\n"
     ]
    }
   ],
   "source": [
    "print(f\"Best estimators:\\n{dtc_gs.best_estimator_}\\n{logr_gs.best_estimator_}\\n{mlpc_gs.best_estimator_}\\n{rfc_gs.best_estimator_}\\n{svc_gs.best_estimator_}\")"
   ]
  },
  {
   "cell_type": "code",
   "execution_count": 115,
   "metadata": {},
   "outputs": [],
   "source": [
    "dtc = dtc_gs.best_estimator_\n",
    "logr = logr_gs.best_estimator_\n",
    "mlpc = mlpc_gs.best_estimator_\n",
    "rfc = rfc_gs.best_estimator_\n",
    "svc = svc_gs.best_estimator_"
   ]
  },
  {
   "cell_type": "code",
   "execution_count": 121,
   "metadata": {},
   "outputs": [],
   "source": [
    "results = {\n",
    "    'DTC' : (roc_auc_score(y_test, dtc.predict_proba(X_test)[:,1]), accuracy_score(y_test, dtc.predict(X_test))),\n",
    "    'LOGR' : (roc_auc_score(y_test, logr.predict_proba(X_test)[:,1]), accuracy_score(y_test, logr.predict(X_test))),\n",
    "    'MLPC' : (roc_auc_score(y_test, mlpc.predict_proba(X_test)[:,1]), accuracy_score(y_test, mlpc.predict(X_test))),\n",
    "    'RFC' : (roc_auc_score(y_test, rfc.predict_proba(X_test)[:,1]), accuracy_score(y_test, rfc.predict(X_test))),\n",
    "    'SVC' : (roc_auc_score(y_test, svc._predict_proba_lr(X_test)[:,1]), accuracy_score(y_test, svc.predict(X_test)))\n",
    "}\n",
    "\n",
    "results_df = pd.DataFrame(results, index=['ROC AUC', 'Accuracy'])"
   ]
  },
  {
   "attachments": {},
   "cell_type": "markdown",
   "metadata": {},
   "source": [
    "Metrics of optimalized models working on unseen data"
   ]
  },
  {
   "cell_type": "code",
   "execution_count": 122,
   "metadata": {},
   "outputs": [
    {
     "data": {
      "text/html": [
       "<div>\n",
       "<style scoped>\n",
       "    .dataframe tbody tr th:only-of-type {\n",
       "        vertical-align: middle;\n",
       "    }\n",
       "\n",
       "    .dataframe tbody tr th {\n",
       "        vertical-align: top;\n",
       "    }\n",
       "\n",
       "    .dataframe thead th {\n",
       "        text-align: right;\n",
       "    }\n",
       "</style>\n",
       "<table border=\"1\" class=\"dataframe\">\n",
       "  <thead>\n",
       "    <tr style=\"text-align: right;\">\n",
       "      <th></th>\n",
       "      <th>DTC</th>\n",
       "      <th>LOGR</th>\n",
       "      <th>MLPC</th>\n",
       "      <th>RFC</th>\n",
       "      <th>SVC</th>\n",
       "    </tr>\n",
       "  </thead>\n",
       "  <tbody>\n",
       "    <tr>\n",
       "      <th>ROC AUC</th>\n",
       "      <td>0.783402</td>\n",
       "      <td>0.778021</td>\n",
       "      <td>0.794596</td>\n",
       "      <td>0.802916</td>\n",
       "      <td>0.778680</td>\n",
       "    </tr>\n",
       "    <tr>\n",
       "      <th>Accuracy</th>\n",
       "      <td>0.847524</td>\n",
       "      <td>0.778558</td>\n",
       "      <td>0.904201</td>\n",
       "      <td>0.856677</td>\n",
       "      <td>0.773417</td>\n",
       "    </tr>\n",
       "  </tbody>\n",
       "</table>\n",
       "</div>"
      ],
      "text/plain": [
       "               DTC      LOGR      MLPC       RFC       SVC\n",
       "ROC AUC   0.783402  0.778021  0.794596  0.802916  0.778680\n",
       "Accuracy  0.847524  0.778558  0.904201  0.856677  0.773417"
      ]
     },
     "execution_count": 122,
     "metadata": {},
     "output_type": "execute_result"
    }
   ],
   "source": [
    "results_df"
   ]
  },
  {
   "cell_type": "code",
   "execution_count": 126,
   "metadata": {},
   "outputs": [
    {
     "data": {
      "text/plain": [
       "<AxesSubplot:>"
      ]
     },
     "execution_count": 126,
     "metadata": {},
     "output_type": "execute_result"
    },
    {
     "data": {
      "image/png": "[encoded data removed]",
      "text/plain": [
       "<Figure size 900x600 with 1 Axes>"
      ]
     },
     "metadata": {},
     "output_type": "display_data"
    }
   ],
   "source": [
    "results_df.plot(kind='bar', figsize=(9,6), rot=0)"
   ]
  },
  {
   "attachments": {},
   "cell_type": "markdown",
   "metadata": {},
   "source": [
    "We can see that MLP Classifier and Random Forest Classifier stand out from other models"
   ]
  }
 ],
 "metadata": {
  "kernelspec": {
   "display_name": "kaggleproject",
   "language": "python",
   "name": "python3"
  },
  "language_info": {
   "codemirror_mode": {
    "name": "ipython",
    "version": 3
   },
   "file_extension": ".py",
   "mimetype": "text/x-python",
   "name": "python",
   "nbconvert_exporter": "python",
   "pygments_lexer": "ipython3",
   "version": "3.7.13"
  },
  "orig_nbformat": 4,
  "vscode": {
   "interpreter": {
    "hash": "aa5f65e0f10c319cfd3354688387c531f5a2d855a835969ef8e2fcee4983dfc3"
   }
  }
 },
 "nbformat": 4,
 "nbformat_minor": 2
}
